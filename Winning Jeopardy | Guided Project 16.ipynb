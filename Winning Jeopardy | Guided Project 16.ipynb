{
 "cells": [
  {
   "cell_type": "markdown",
   "metadata": {},
   "source": [
    "# Winning Jeopardy\n",
    "Jeopardy! is a popular daytime television trivia show in the United States. It has existed for a long time, and a contestant that knows the answers to a myriad of diverse trivia questions can win a lot of money. Today, I will perform statistical analysis on a dataset of Jeopardy! questions to find out the best way to win the game show. There are several ways to study for Jeopardy! \n",
    "\n",
    "### Goal:\n",
    "My goal is to answer the question:  \n",
    "   \n",
    "If I want to win Jeopardy! in the future, should I study previous Jeopardy! questions, general knowledge, or not study at all?\n",
    "\n",
    "I will use a dataset of 216,930 Jeopardy! questions, roughly 83% of all Jeopardy! questions ever used. These questions were collected by crawling www.j-archive.com, and this dataset can be found <a href='https://www.reddit.com/r/datasets/comments/1uyd0t/200000_jeopardy_questions_in_a_json_file'>here</a>. "
   ]
  },
  {
   "cell_type": "markdown",
   "metadata": {},
   "source": [
    "## Reading in the Data"
   ]
  },
  {
   "cell_type": "code",
   "execution_count": 1,
   "metadata": {},
   "outputs": [
    {
     "data": {
      "text/plain": [
       "(216930, 7)"
      ]
     },
     "execution_count": 1,
     "metadata": {},
     "output_type": "execute_result"
    }
   ],
   "source": [
    "import pandas as pd\n",
    "\n",
    "jeopardy = pd.read_csv('/Users/admin/Downloads/DATASCIENCE PROJECTS - GUIDED/Project 16 | Winning Jeopardy/JEOPARDY_CSV.csv')\n",
    "\n",
    "jeopardy.shape"
   ]
  },
  {
   "cell_type": "code",
   "execution_count": 2,
   "metadata": {},
   "outputs": [
    {
     "data": {
      "text/html": [
       "<div>\n",
       "<style scoped>\n",
       "    .dataframe tbody tr th:only-of-type {\n",
       "        vertical-align: middle;\n",
       "    }\n",
       "\n",
       "    .dataframe tbody tr th {\n",
       "        vertical-align: top;\n",
       "    }\n",
       "\n",
       "    .dataframe thead th {\n",
       "        text-align: right;\n",
       "    }\n",
       "</style>\n",
       "<table border=\"1\" class=\"dataframe\">\n",
       "  <thead>\n",
       "    <tr style=\"text-align: right;\">\n",
       "      <th></th>\n",
       "      <th>Show Number</th>\n",
       "      <th>Air Date</th>\n",
       "      <th>Round</th>\n",
       "      <th>Category</th>\n",
       "      <th>Value</th>\n",
       "      <th>Question</th>\n",
       "      <th>Answer</th>\n",
       "    </tr>\n",
       "  </thead>\n",
       "  <tbody>\n",
       "    <tr>\n",
       "      <td>0</td>\n",
       "      <td>4680</td>\n",
       "      <td>2004-12-31</td>\n",
       "      <td>Jeopardy!</td>\n",
       "      <td>HISTORY</td>\n",
       "      <td>$200</td>\n",
       "      <td>For the last 8 years of his life, Galileo was ...</td>\n",
       "      <td>Copernicus</td>\n",
       "    </tr>\n",
       "    <tr>\n",
       "      <td>1</td>\n",
       "      <td>4680</td>\n",
       "      <td>2004-12-31</td>\n",
       "      <td>Jeopardy!</td>\n",
       "      <td>ESPN's TOP 10 ALL-TIME ATHLETES</td>\n",
       "      <td>$200</td>\n",
       "      <td>No. 2: 1912 Olympian; football star at Carlisl...</td>\n",
       "      <td>Jim Thorpe</td>\n",
       "    </tr>\n",
       "    <tr>\n",
       "      <td>2</td>\n",
       "      <td>4680</td>\n",
       "      <td>2004-12-31</td>\n",
       "      <td>Jeopardy!</td>\n",
       "      <td>EVERYBODY TALKS ABOUT IT...</td>\n",
       "      <td>$200</td>\n",
       "      <td>The city of Yuma in this state has a record av...</td>\n",
       "      <td>Arizona</td>\n",
       "    </tr>\n",
       "    <tr>\n",
       "      <td>3</td>\n",
       "      <td>4680</td>\n",
       "      <td>2004-12-31</td>\n",
       "      <td>Jeopardy!</td>\n",
       "      <td>THE COMPANY LINE</td>\n",
       "      <td>$200</td>\n",
       "      <td>In 1963, live on \"The Art Linkletter Show\", th...</td>\n",
       "      <td>McDonald's</td>\n",
       "    </tr>\n",
       "    <tr>\n",
       "      <td>4</td>\n",
       "      <td>4680</td>\n",
       "      <td>2004-12-31</td>\n",
       "      <td>Jeopardy!</td>\n",
       "      <td>EPITAPHS &amp; TRIBUTES</td>\n",
       "      <td>$200</td>\n",
       "      <td>Signer of the Dec. of Indep., framer of the Co...</td>\n",
       "      <td>John Adams</td>\n",
       "    </tr>\n",
       "  </tbody>\n",
       "</table>\n",
       "</div>"
      ],
      "text/plain": [
       "   Show Number    Air Date      Round                         Category  Value  \\\n",
       "0         4680  2004-12-31  Jeopardy!                          HISTORY   $200   \n",
       "1         4680  2004-12-31  Jeopardy!  ESPN's TOP 10 ALL-TIME ATHLETES   $200   \n",
       "2         4680  2004-12-31  Jeopardy!      EVERYBODY TALKS ABOUT IT...   $200   \n",
       "3         4680  2004-12-31  Jeopardy!                 THE COMPANY LINE   $200   \n",
       "4         4680  2004-12-31  Jeopardy!              EPITAPHS & TRIBUTES   $200   \n",
       "\n",
       "                                            Question      Answer  \n",
       "0  For the last 8 years of his life, Galileo was ...  Copernicus  \n",
       "1  No. 2: 1912 Olympian; football star at Carlisl...  Jim Thorpe  \n",
       "2  The city of Yuma in this state has a record av...     Arizona  \n",
       "3  In 1963, live on \"The Art Linkletter Show\", th...  McDonald's  \n",
       "4  Signer of the Dec. of Indep., framer of the Co...  John Adams  "
      ]
     },
     "execution_count": 2,
     "metadata": {},
     "output_type": "execute_result"
    }
   ],
   "source": [
    "jeopardy.head()"
   ]
  },
  {
   "cell_type": "code",
   "execution_count": 3,
   "metadata": {},
   "outputs": [
    {
     "data": {
      "text/html": [
       "<div>\n",
       "<style scoped>\n",
       "    .dataframe tbody tr th:only-of-type {\n",
       "        vertical-align: middle;\n",
       "    }\n",
       "\n",
       "    .dataframe tbody tr th {\n",
       "        vertical-align: top;\n",
       "    }\n",
       "\n",
       "    .dataframe thead th {\n",
       "        text-align: right;\n",
       "    }\n",
       "</style>\n",
       "<table border=\"1\" class=\"dataframe\">\n",
       "  <thead>\n",
       "    <tr style=\"text-align: right;\">\n",
       "      <th></th>\n",
       "      <th>Show Number</th>\n",
       "      <th>Air Date</th>\n",
       "      <th>Round</th>\n",
       "      <th>Category</th>\n",
       "      <th>Value</th>\n",
       "      <th>Question</th>\n",
       "      <th>Answer</th>\n",
       "    </tr>\n",
       "  </thead>\n",
       "  <tbody>\n",
       "    <tr>\n",
       "      <td>count</td>\n",
       "      <td>216930.000000</td>\n",
       "      <td>216930</td>\n",
       "      <td>216930</td>\n",
       "      <td>216930</td>\n",
       "      <td>216930</td>\n",
       "      <td>216930</td>\n",
       "      <td>216928</td>\n",
       "    </tr>\n",
       "    <tr>\n",
       "      <td>unique</td>\n",
       "      <td>NaN</td>\n",
       "      <td>3640</td>\n",
       "      <td>4</td>\n",
       "      <td>27995</td>\n",
       "      <td>150</td>\n",
       "      <td>216124</td>\n",
       "      <td>88268</td>\n",
       "    </tr>\n",
       "    <tr>\n",
       "      <td>top</td>\n",
       "      <td>NaN</td>\n",
       "      <td>2007-11-13</td>\n",
       "      <td>Jeopardy!</td>\n",
       "      <td>BEFORE &amp; AFTER</td>\n",
       "      <td>$400</td>\n",
       "      <td>[audio clue]</td>\n",
       "      <td>China</td>\n",
       "    </tr>\n",
       "    <tr>\n",
       "      <td>freq</td>\n",
       "      <td>NaN</td>\n",
       "      <td>62</td>\n",
       "      <td>107384</td>\n",
       "      <td>547</td>\n",
       "      <td>42244</td>\n",
       "      <td>17</td>\n",
       "      <td>216</td>\n",
       "    </tr>\n",
       "    <tr>\n",
       "      <td>mean</td>\n",
       "      <td>4264.238519</td>\n",
       "      <td>NaN</td>\n",
       "      <td>NaN</td>\n",
       "      <td>NaN</td>\n",
       "      <td>NaN</td>\n",
       "      <td>NaN</td>\n",
       "      <td>NaN</td>\n",
       "    </tr>\n",
       "    <tr>\n",
       "      <td>std</td>\n",
       "      <td>1386.296335</td>\n",
       "      <td>NaN</td>\n",
       "      <td>NaN</td>\n",
       "      <td>NaN</td>\n",
       "      <td>NaN</td>\n",
       "      <td>NaN</td>\n",
       "      <td>NaN</td>\n",
       "    </tr>\n",
       "    <tr>\n",
       "      <td>min</td>\n",
       "      <td>1.000000</td>\n",
       "      <td>NaN</td>\n",
       "      <td>NaN</td>\n",
       "      <td>NaN</td>\n",
       "      <td>NaN</td>\n",
       "      <td>NaN</td>\n",
       "      <td>NaN</td>\n",
       "    </tr>\n",
       "    <tr>\n",
       "      <td>25%</td>\n",
       "      <td>3349.000000</td>\n",
       "      <td>NaN</td>\n",
       "      <td>NaN</td>\n",
       "      <td>NaN</td>\n",
       "      <td>NaN</td>\n",
       "      <td>NaN</td>\n",
       "      <td>NaN</td>\n",
       "    </tr>\n",
       "    <tr>\n",
       "      <td>50%</td>\n",
       "      <td>4490.000000</td>\n",
       "      <td>NaN</td>\n",
       "      <td>NaN</td>\n",
       "      <td>NaN</td>\n",
       "      <td>NaN</td>\n",
       "      <td>NaN</td>\n",
       "      <td>NaN</td>\n",
       "    </tr>\n",
       "    <tr>\n",
       "      <td>75%</td>\n",
       "      <td>5393.000000</td>\n",
       "      <td>NaN</td>\n",
       "      <td>NaN</td>\n",
       "      <td>NaN</td>\n",
       "      <td>NaN</td>\n",
       "      <td>NaN</td>\n",
       "      <td>NaN</td>\n",
       "    </tr>\n",
       "    <tr>\n",
       "      <td>max</td>\n",
       "      <td>6300.000000</td>\n",
       "      <td>NaN</td>\n",
       "      <td>NaN</td>\n",
       "      <td>NaN</td>\n",
       "      <td>NaN</td>\n",
       "      <td>NaN</td>\n",
       "      <td>NaN</td>\n",
       "    </tr>\n",
       "  </tbody>\n",
       "</table>\n",
       "</div>"
      ],
      "text/plain": [
       "          Show Number    Air Date      Round        Category   Value  \\\n",
       "count   216930.000000      216930     216930          216930  216930   \n",
       "unique            NaN        3640          4           27995     150   \n",
       "top               NaN  2007-11-13  Jeopardy!  BEFORE & AFTER    $400   \n",
       "freq              NaN          62     107384             547   42244   \n",
       "mean      4264.238519         NaN        NaN             NaN     NaN   \n",
       "std       1386.296335         NaN        NaN             NaN     NaN   \n",
       "min          1.000000         NaN        NaN             NaN     NaN   \n",
       "25%       3349.000000         NaN        NaN             NaN     NaN   \n",
       "50%       4490.000000         NaN        NaN             NaN     NaN   \n",
       "75%       5393.000000         NaN        NaN             NaN     NaN   \n",
       "max       6300.000000         NaN        NaN             NaN     NaN   \n",
       "\n",
       "            Question  Answer  \n",
       "count         216930  216928  \n",
       "unique        216124   88268  \n",
       "top     [audio clue]   China  \n",
       "freq              17     216  \n",
       "mean             NaN     NaN  \n",
       "std              NaN     NaN  \n",
       "min              NaN     NaN  \n",
       "25%              NaN     NaN  \n",
       "50%              NaN     NaN  \n",
       "75%              NaN     NaN  \n",
       "max              NaN     NaN  "
      ]
     },
     "execution_count": 3,
     "metadata": {},
     "output_type": "execute_result"
    }
   ],
   "source": [
    "jeopardy.describe(include='all')"
   ]
  },
  {
   "cell_type": "markdown",
   "metadata": {},
   "source": [
    "## Cleaning the Dataset\n",
    "I need to clean the column names and the \"Question\", \"Answer\", and \"Value\" columns."
   ]
  },
  {
   "cell_type": "code",
   "execution_count": 4,
   "metadata": {},
   "outputs": [],
   "source": [
    "jeopardy.columns = jeopardy.columns.str.strip()  #Stripping white space from the column names"
   ]
  },
  {
   "cell_type": "code",
   "execution_count": 5,
   "metadata": {},
   "outputs": [],
   "source": [
    "#Normalizing the Question and Answer columns\n",
    "\n",
    "import re\n",
    "\n",
    "def normalize(string):\n",
    "    string = str(string)\n",
    "    string = string.lower()\n",
    "    string = re.sub('\\W', ' ', string)\n",
    "    return string\n",
    "\n",
    "jeopardy['clean_question'] = jeopardy['Question'].apply(normalize)\n",
    "jeopardy['clean_answer'] = jeopardy['Answer'].apply(normalize)"
   ]
  },
  {
   "cell_type": "code",
   "execution_count": 6,
   "metadata": {},
   "outputs": [],
   "source": [
    "#Normalizing the Value column\n",
    "\n",
    "def normalize_value(value):\n",
    "    value = str(value)\n",
    "    value = re.sub('\\D', '', value)\n",
    "    if value == '':     #Correcting for non-digit entry\n",
    "        value = 0\n",
    "    value = int(value)\n",
    "    return value\n",
    "\n",
    "jeopardy['clean_value'] = jeopardy['Value'].apply(normalize_value)"
   ]
  },
  {
   "cell_type": "markdown",
   "metadata": {},
   "source": [
    "## Exploring the Data\n",
    "There are two questions that can help me answer my original question:   \n",
    "<ul><li>How often can a Jeopardy! answer be used as a question?</li>\n",
    "    <li>How often are questions repeated?</li></ul>\n",
    "    \n",
    "If I can answer these questions, then I have a good idea of whether I should study previous Jeopardy! questions if I want to win in the future."
   ]
  },
  {
   "cell_type": "markdown",
   "metadata": {},
   "source": [
    "### How often can a Jeopardy! answer be used as a question?\n",
    "This question will help me discover whether I even need to study if I want to win Jeopardy! by finding out how often the answer can be discerned from the question itself.\n",
    "\n",
    "To answer this question, I will use a word-count method to estimate how many times, on average, previous answers appear in their corresponding question.\n",
    "\n",
    "To do this, I will create and apply a function that calculates how many times each word in a Jeopardy! answer appears in its corresponding question, and then average this value over all questions."
   ]
  },
  {
   "cell_type": "code",
   "execution_count": 7,
   "metadata": {},
   "outputs": [
    {
     "data": {
      "text/plain": [
       "0.06082627177801448"
      ]
     },
     "execution_count": 7,
     "metadata": {},
     "output_type": "execute_result"
    }
   ],
   "source": [
    "def answer_in_question(row):\n",
    "    split_answer = row['clean_answer'].split()\n",
    "    split_question = row['clean_question'].split()\n",
    "    match_count = 0\n",
    "    while 'the' in split_answer:    #Removing \"the\" because it is too common\n",
    "        split_answer.remove('the')\n",
    "    if len(split_answer) == 0:\n",
    "        return 0\n",
    "    for word in split_answer:\n",
    "        if word in split_question:\n",
    "            match_count += 1\n",
    "    return match_count/len(split_answer)   #Words-matched-with-question per words-total-in-answer\n",
    "\n",
    "jeopardy['answer_in_question'] = jeopardy.apply(answer_in_question, axis=1)\n",
    "\n",
    "jeopardy['answer_in_question'].mean()"
   ]
  },
  {
   "cell_type": "markdown",
   "metadata": {},
   "source": [
    "On average, the answer can only be found in the question 6% of the time. This means that, in order to win, I will have to do more than \"not study at all.\""
   ]
  },
  {
   "cell_type": "markdown",
   "metadata": {},
   "source": [
    "### How often are questions repeated?\n",
    "This question will help me discover if studying past Jeopardy! questions will actually help me prepare for future Jeopardy! questions.\n",
    "\n",
    "To answer this question, I will once again use a word-count method. This time, this method will help reveal if previous question topics reappear in future Jeopardy! questions.\n",
    "\n",
    "To do this, I will create and apply a function that calculates, for each Jeopardy! question, how many words in that question have already been used in previous questions."
   ]
  },
  {
   "cell_type": "code",
   "execution_count": 8,
   "metadata": {},
   "outputs": [
    {
     "data": {
      "text/plain": [
       "0.8987549397173473"
      ]
     },
     "execution_count": 8,
     "metadata": {},
     "output_type": "execute_result"
    }
   ],
   "source": [
    "question_overlap = []\n",
    "terms_used = set()\n",
    "\n",
    "jeopardy['Air Date'] = pd.to_datetime(jeopardy['Air Date'])\n",
    "\n",
    "jeopardy = jeopardy.sort_values('Air Date')     #Sorting by date aired\n",
    "\n",
    "for i, row in jeopardy.iterrows():\n",
    "    split_question = row['clean_question'].split()\n",
    "    split_question = [word for word in split_question if len(word) >= 6]    #Removing common words by removing small words\n",
    "    match_count = 0\n",
    "    for word in split_question:\n",
    "        if word in terms_used:\n",
    "            match_count += 1\n",
    "    for word in split_question:\n",
    "        terms_used.add(word)\n",
    "    if len(split_question) > 0:\n",
    "        match_count /= len(split_question)\n",
    "    question_overlap.append(match_count)\n",
    "    \n",
    "jeopardy['question_overlap'] = question_overlap     #Creating a column of how many words in each question were used in previous questions\n",
    "\n",
    "jeopardy['question_overlap'].mean()"
   ]
  },
  {
   "cell_type": "markdown",
   "metadata": {},
   "source": [
    "On average, 89.9% of words from previous Jeopardy! questions are recycled for new questions. This is a sign that question topics may in fact be recycled! However, this conclusion is still inconclusive. To provide more certainty, a good next step is to find question overlap of phrases rather than just solitary words. Still, this is a sign that studying past questions can be worthwhile."
   ]
  },
  {
   "cell_type": "markdown",
   "metadata": {},
   "source": [
    "## Studying High Value Jeopardy Questions\n",
    "There is still yet another dimension of the game show to consider when determining a potent path to Jeopardy! victory. Jeopardy! is a game show with varying cash prizes, awarded for answering questions of different value. To win more money on the game show, it is better to know the answer to high-value questions rather than low-value questions.\n",
    "\n",
    "Another good question to answer is:   \n",
    "Will studying more previous high-value questions than low-value questions help me win a future Jeopardy! game show better than just studying previous Jeopardy! questions in general?\n",
    "\n",
    "To help answer this question, I will test whether there is a significant difference between high-value questions and low-value questions, using a word-count method once again, and this time I will perform a chi-squared test to evaluate whether the results of this test are statistically significant.\n",
    "\n",
    "The null hypothesis:   \n",
    "The words used in high-value questions are not statistically different from the words used in low-value questions.\n",
    "\n",
    "Hypothesis:   \n",
    "The words used in high-value questions are significantly different from the words used in low-value questions.\n",
    "\n",
    "### Testing the Hypothesis\n",
    "I will test the hypothesis by dividing the Jeopardy! questions into high-value and low-value questions. High-value questions are questions that are worth more than \\$800.\n",
    "\n",
    "Next, I will create a function that counts how many times a particular word is used in high-value questions, and how many times that same word is used in low-value questions. The function will return both counts.\n",
    "\n",
    "I will then apply this function to 10 random words from the list of used Jeopardy! terms. This result will serve as 10 'observation' instances for a chi-squared test.\n",
    "\n",
    "### The Chi Squared Test\n",
    "The chi squared test calculates a test statistic that quantifies the difference between sets of observed and expected categorical values. The chi squared test is used to determine statistical significance.\n",
    "\n",
    "$$\\chi^2 = \\frac{(observed - expected)^2}{expected}$$\n",
    "\n",
    "For each of the 10 Jeopardy! terms that I will test, there are 2 observed values and 2 expected values: one observed value for the high-value count, one observed value for the low-value count, one expected value for the high-value count, one expected value for the low-value count.\n",
    "\n",
    "The observed values are calculated from the term-counting function. \n",
    "\n",
    "The expected values are the product of the term's proportional representation in the set of Jeopardy! questions with the number of questions that are high-/low-value.\n",
    "\n",
    "Each term will generate it's own chi-squared value.\n",
    "\n",
    "From each chi-squared value, I will generate a p-value from a sampling distribution that will determine statistical significance.\n",
    "\n",
    "If any term appears with a p-value of 5\\% or less, then that term is probably primarily used in only high-value or only low-value questions.\n",
    "\n",
    "P-value threshold: 5%."
   ]
  },
  {
   "cell_type": "code",
   "execution_count": 9,
   "metadata": {},
   "outputs": [],
   "source": [
    "#Categorizing questions as high-value or low-value\n",
    "\n",
    "def assign_value(row):\n",
    "    if row['clean_value'] > 800:\n",
    "        value = 1\n",
    "    else:\n",
    "        value = 0\n",
    "    return value\n",
    "\n",
    "jeopardy['high_value'] = jeopardy.apply(assign_value, axis=1)"
   ]
  },
  {
   "cell_type": "code",
   "execution_count": 12,
   "metadata": {},
   "outputs": [],
   "source": [
    "#High-/low-value count function\n",
    "\n",
    "def high_count(word):\n",
    "    low_count = 0\n",
    "    high_count = 0\n",
    "    for i, row in jeopardy.iterrows():\n",
    "        split_question = row['clean_question'].split()\n",
    "        if word in split_question:\n",
    "            if row['high_value'] == 1:\n",
    "                high_count += 1\n",
    "            else:\n",
    "                low_count += 1\n",
    "    return high_count, low_count"
   ]
  },
  {
   "cell_type": "code",
   "execution_count": 14,
   "metadata": {},
   "outputs": [
    {
     "data": {
      "text/plain": [
       "[(1, 0),\n",
       " (0, 1),\n",
       " (1, 3),\n",
       " (0, 1),\n",
       " (8, 15),\n",
       " (2, 6),\n",
       " (2, 6),\n",
       " (2, 4),\n",
       " (0, 2),\n",
       " (0, 1)]"
      ]
     },
     "execution_count": 14,
     "metadata": {},
     "output_type": "execute_result"
    }
   ],
   "source": [
    "#Generating sample observation values\n",
    "\n",
    "from random import choice\n",
    "\n",
    "terms_used_list = list(terms_used)\n",
    "\n",
    "comparison_terms = [choice(terms_used_list) for _ in range(10)]     #Simple random sampling (representative sampling)\n",
    "\n",
    "observed_expected = []\n",
    "\n",
    "for term in comparison_terms:\n",
    "    observed_expected.append(high_count(term))"
   ]
  },
  {
   "cell_type": "code",
   "execution_count": 16,
   "metadata": {},
   "outputs": [
    {
     "data": {
      "text/plain": [
       "[Power_divergenceResult(statistic=2.5317964247338085, pvalue=0.11157312838169751),\n",
       " Power_divergenceResult(statistic=0.3949764642333513, pvalue=0.5296950912486695),\n",
       " Power_divergenceResult(statistic=0.021646150708492677, pvalue=0.8830323245068887),\n",
       " Power_divergenceResult(statistic=0.3949764642333513, pvalue=0.5296950912486695),\n",
       " Power_divergenceResult(statistic=0.4741163319768614, pvalue=0.4910995336105496),\n",
       " Power_divergenceResult(statistic=0.043292301416985354, pvalue=0.8351758561462266),\n",
       " Power_divergenceResult(statistic=0.043292301416985354, pvalue=0.8351758561462266),\n",
       " Power_divergenceResult(statistic=0.07446818777814278, pvalue=0.7849388502668134),\n",
       " Power_divergenceResult(statistic=0.7899529284667026, pvalue=0.3741143592744989),\n",
       " Power_divergenceResult(statistic=0.3949764642333513, pvalue=0.5296950912486695)]"
      ]
     },
     "execution_count": 16,
     "metadata": {},
     "output_type": "execute_result"
    }
   ],
   "source": [
    "#Performing the chi-squared test\n",
    "\n",
    "from scipy.stats import chisquare\n",
    "import numpy as np\n",
    "\n",
    "low_value_count = len(jeopardy[jeopardy['high_value'] == 0])\n",
    "high_value_count = len(jeopardy[jeopardy['high_value'] == 1])\n",
    "\n",
    "chi_squared = []\n",
    "\n",
    "for obs in observed_expected:\n",
    "    total = sum(obs)\n",
    "    total_prop = total/len(jeopardy)\n",
    "    \n",
    "    exp_high = total_prop * high_value_count    #Calculating the expected values\n",
    "    exp_low = total_prop * low_value_count\n",
    "    \n",
    "    observed = np.array([obs[0], obs[1]])\n",
    "    expected = np.array([exp_high, exp_low])\n",
    "    \n",
    "    chi_sq = chisquare(observed, expected)\n",
    "    chi_squared.append(chi_sq)\n",
    "    \n",
    "chi_squared"
   ]
  },
  {
   "cell_type": "markdown",
   "metadata": {},
   "source": [
    "### Chi-Squared Test Results\n",
    "None of the terms chosen from the simple random sample demonstrate statistical significance in the chi-squared test. None of these terms is significantly likely to appear more in high-value questions than low-value questions or vice versa.\n",
    "\n",
    "The lowest p-value of all 10 terms in the sample is 11.2%. All other p-values range from 37.4% to 88.3%, with 7 of the 10 p-values higher than 50%.\n",
    "\n",
    "All of the chi-squared values are low. Only 1 chi-squared value is greater than 1. This means that 9 out of 10 of the terms in the sample display strong similarity between their observed and expected values.\n",
    "\n",
    "At this time, the null hypothesis cannot be rejected. However, this sample is too small to garner conclusive results. Many more chi-squared tests can be performed using more terms in the vocabulary. With more terms tested, a few may appear to demonstrate high chi-squared values and low p-values. This is indicated by noticing that a small minority of the sample terms tested deviates from the general pattern of the rest. 1 in 10 of the samples has a much higher chi-squared value than the others, and simultaneously a much lower p-value than the others. Other terms may continue this trend, with some showing p-values less than 5\\%."
   ]
  },
  {
   "cell_type": "markdown",
   "metadata": {},
   "source": [
    "## Conclusion\n",
    "It looks like studying previous Jeopardy! questions might be a winning strategy if I want to win a future game of Jeopardy!, although the evidence is not final. There is still more analysis required in order to come to a precise conclusion. \n",
    "\n",
    "### Next Steps:\n",
    "<ul><li>Answering the question \"How often are questions repeated?\" by searching for common phrases among newer and older questions.</li>\n",
    "    <li>Discovering which \"Categories\" (\"Categories\" column) of Jeopardy! questions are most popular for previous questions.</li>\n",
    "    <li>Performing more chi-squared tests on more Jeopardy! terms to find out if any topics do appear more often in high-value questions.</ul>"
   ]
  },
  {
   "cell_type": "code",
   "execution_count": null,
   "metadata": {},
   "outputs": [],
   "source": []
  }
 ],
 "metadata": {
  "kernelspec": {
   "display_name": "Python 3",
   "language": "python",
   "name": "python3"
  },
  "language_info": {
   "codemirror_mode": {
    "name": "ipython",
    "version": 3
   },
   "file_extension": ".py",
   "mimetype": "text/x-python",
   "name": "python",
   "nbconvert_exporter": "python",
   "pygments_lexer": "ipython3",
   "version": "3.7.4"
  }
 },
 "nbformat": 4,
 "nbformat_minor": 2
}
